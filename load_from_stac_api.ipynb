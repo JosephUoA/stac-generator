{
 "cells": [
  {
   "cell_type": "code",
   "execution_count": null,
   "id": "9335cb61-53ee-4b8b-9fab-5a9fb8c2fc6f",
   "metadata": {},
   "outputs": [],
   "source": [
    "import matplotlib\n",
    "import pystac_client\n",
    "from odc.stac import stac_load\n",
    "from IPython.display import display"
   ]
  },
  {
   "cell_type": "code",
   "execution_count": null,
   "id": "c41090d4-a04b-4d79-8bf1-42ef73d23b46",
   "metadata": {
    "editable": true,
    "slideshow": {
     "slide_type": ""
    },
    "tags": []
   },
   "outputs": [],
   "source": [
    "client = pystac_client.Client.open(\"http://localhost:8082/\")\n",
    "items = []\n",
    "for c in client.get_collections():\n",
    "    print(c)\n",
    "    if c.id == \"test_collection\":\n",
    "        query = client.search(\n",
    "            collections=[\"test_collection\"]\n",
    "        )\n",
    "        items = list(query.items())\n",
    "        print(items)\n",
    "crs = \"epsg:4326\"\n",
    "xx = stac_load(\n",
    "    items,\n",
    "    # bands=(\"red\", \"green\", \"blue\"),\n",
    "    crs=crs,\n",
    "    resolution=.000001\n",
    ")"
   ]
  },
  {
   "cell_type": "code",
   "execution_count": null,
   "id": "781835ec-b8f3-4dab-9295-e342162e038c",
   "metadata": {},
   "outputs": [],
   "source": [
    "display(xx)"
   ]
  },
  {
   "cell_type": "code",
   "execution_count": null,
   "id": "1acd2fbb-4742-45ff-b610-7e12850d1210",
   "metadata": {},
   "outputs": [],
   "source": [
    "xx.odc.geobox"
   ]
  },
  {
   "cell_type": "code",
   "execution_count": null,
   "id": "9cda5c4a-1df7-49b5-bece-bbdef0fde98b",
   "metadata": {},
   "outputs": [],
   "source": [
    "xx = xx.compute()\n",
    "_ = (\n",
    "    xx.isel(time=0)\n",
    "    .to_array(\"band\")\n",
    "    .plot.imshow(\n",
    "        col=\"band\",\n",
    "        size=8,\n",
    "        vmin=0,\n",
    "        vmax=65000,\n",
    "    )\n",
    ")"
   ]
  },
  {
   "cell_type": "code",
   "execution_count": null,
   "id": "81f52cc2-dc03-4cb3-8b82-ddc793319473",
   "metadata": {},
   "outputs": [],
   "source": [
    "type(xx)"
   ]
  },
  {
   "cell_type": "code",
   "execution_count": null,
   "id": "b1f748b5-96ee-4fa7-ac02-380cba041f24",
   "metadata": {},
   "outputs": [],
   "source": [
    "xx[\"image\"].compute()"
   ]
  },
  {
   "cell_type": "code",
   "execution_count": null,
   "id": "58a309bd-bff2-43b8-9484-316787a6e500",
   "metadata": {},
   "outputs": [],
   "source": [
    "df = xx[\"image\"].compute()"
   ]
  },
  {
   "cell_type": "code",
   "execution_count": null,
   "id": "7a0932c9-323e-4dac-ac67-1e3fc61da378",
   "metadata": {},
   "outputs": [],
   "source": [
    "df.data[0][1]#[0]"
   ]
  },
  {
   "cell_type": "code",
   "execution_count": null,
   "id": "a3e66a4a-223d-4219-8533-add4e4156102",
   "metadata": {},
   "outputs": [],
   "source": []
  }
 ],
 "metadata": {
  "kernelspec": {
   "display_name": "Python 3 (ipykernel)",
   "language": "python",
   "name": "python3"
  },
  "language_info": {
   "codemirror_mode": {
    "name": "ipython",
    "version": 3
   },
   "file_extension": ".py",
   "mimetype": "text/x-python",
   "name": "python",
   "nbconvert_exporter": "python",
   "pygments_lexer": "ipython3",
   "version": "3.11.8"
  }
 },
 "nbformat": 4,
 "nbformat_minor": 5
}
